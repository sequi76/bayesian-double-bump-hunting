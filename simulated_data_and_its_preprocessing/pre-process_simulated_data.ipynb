{
 "cells": [
  {
   "cell_type": "code",
   "execution_count": 1,
   "metadata": {},
   "outputs": [],
   "source": [
    "import pandas as pd\n",
    "import numpy as np\n",
    "import ast\n",
    "import math\n",
    "import random\n",
    "from scipy import stats\n",
    "import pickle"
   ]
  },
  {
   "cell_type": "code",
   "execution_count": 2,
   "metadata": {},
   "outputs": [],
   "source": [
    "# compute invariant masses from a datraframe with the event\n",
    "\n",
    "Eminbb = 100.0\n",
    "Eminaa = 120.0\n",
    "Emaxbb = 140.0\n",
    "Emaxaa = 130.0\n",
    "\n",
    "def mbb(df):\n",
    "    tmp = df[(df['type']==4) & (df['btag']>0)].sort_values(by=['btag'], ascending=False)\n",
    "    if len(tmp) > 1:        \n",
    "        pt0 = tmp.iloc[0]['pt']\n",
    "        pt1 = tmp.iloc[1]['pt']\n",
    "        eta0 = tmp.iloc[0]['eta']\n",
    "        eta1 = tmp.iloc[1]['eta']\n",
    "        phi0 = tmp.iloc[0]['phi']\n",
    "        phi1 = tmp.iloc[1]['phi']\n",
    "        mbb = math.sqrt( 2 * pt0 * pt1 * (math.cosh( eta0 - eta1 ) - math.cos( phi0 - phi1 )))\n",
    "        if mbb > Eminbb and mbb < Emaxbb: \n",
    "            return mbb\n",
    "        else:\n",
    "            return -1\n",
    "    else:\n",
    "        return -1\n",
    "    \n",
    "\n",
    "def maa(df):\n",
    "    tmp = df[df['type']==0].sort_values(by=['pt'], ascending=False)\n",
    "    if len(tmp) > 1:        \n",
    "        pt0 = tmp.iloc[0]['pt']\n",
    "        pt1 = tmp.iloc[1]['pt']\n",
    "        eta0 = tmp.iloc[0]['eta']\n",
    "        eta1 = tmp.iloc[1]['eta']\n",
    "        phi0 = tmp.iloc[0]['phi']\n",
    "        phi1 = tmp.iloc[1]['phi']\n",
    "        maa = math.sqrt( 2 * pt0 * pt1 * (math.cosh( eta0 - eta1 ) - math.cos( phi0 - phi1 )))\n",
    "        if maa > Eminaa and maa < Emaxaa: \n",
    "            return maa\n",
    "        else:\n",
    "            return -1\n",
    "    else:\n",
    "        return -1   "
   ]
  },
  {
   "cell_type": "code",
   "execution_count": 3,
   "metadata": {},
   "outputs": [
    {
     "name": "stdout",
     "output_type": "stream",
     "text": [
      "We have selected 43 events from a total of 457 events passing through the detector\n"
     ]
    }
   ],
   "source": [
    "# import lhco Delphes data \n",
    "my_file = open('signal.csv', \"r\")\n",
    "data = my_file.read()\n",
    "my_file.close()\n",
    "data = ast.literal_eval(data)\n",
    "\n",
    "# We create a list of dataframes, where in each dataframe we put an event\n",
    "# There may be something more efficient, but for the time being this works fine\n",
    "d = []\n",
    "for i in range(len(data)):\n",
    "    d.append(pd.DataFrame(data[i], columns=['index','type','eta','phi', 'pt','jmas','ntrk','btag','had/em','dum1','dum2']))\n",
    "\n",
    "# Select ecents in signal which have both bb and $\\gamma\\gamma$\n",
    "signal_events = []\n",
    "for i in range(len(d)):\n",
    "    #if i % 1000 == 0 : print(i)\n",
    "    aa = maa(d[i])\n",
    "    bb = mbb(d[i])\n",
    "    if aa>0 and bb>0:\n",
    "        signal_events.append([bb,aa])\n",
    "print('We have selected',len(signal_events),'events from a total of',len(d),'events passing through the detector')"
   ]
  },
  {
   "cell_type": "code",
   "execution_count": 4,
   "metadata": {},
   "outputs": [
    {
     "name": "stdout",
     "output_type": "stream",
     "text": [
      "We have selected 2 events from a total of 885 events passing through the detector\n"
     ]
    }
   ],
   "source": [
    "# import lhco Delphes data \n",
    "my_file = open('background.csv', \"r\")\n",
    "data = my_file.read()\n",
    "my_file.close()\n",
    "data = ast.literal_eval(data)\n",
    "\n",
    "# We create a list of dataframes, where in each dataframe we put an event\n",
    "# There may be something more efficient, but for the time being this works fine\n",
    "d = []\n",
    "for i in range(len(data)):\n",
    "    d.append(pd.DataFrame(data[i], columns=['index','type','eta','phi', 'pt','jmas','ntrk','btag','had/em','dum1','dum2']))\n",
    "\n",
    "# Select ecents in signal which have both bb and $\\gamma\\gamma$\n",
    "background_events = []\n",
    "for i in range(len(d)):\n",
    "    #if i % 1000 == 0 : print(i)\n",
    "    aa = maa(d[i])\n",
    "    bb = mbb(d[i])\n",
    "    if aa>0 and bb>0:\n",
    "        background_events.append([bb,aa])\n",
    "print('We have selected',len(background_events),'events from a total of',len(d),'events passing through the detector')"
   ]
  },
  {
   "cell_type": "code",
   "execution_count": 5,
   "metadata": {},
   "outputs": [],
   "source": [
    "lhcdata = {'signal': signal_events, 'background': background_events}\n",
    "\n",
    "with open('lhcdata_test.pkl', 'wb') as f:\n",
    "    pickle.dump(lhcdata, f)"
   ]
  },
  {
   "cell_type": "code",
   "execution_count": null,
   "metadata": {},
   "outputs": [],
   "source": []
  }
 ],
 "metadata": {
  "kernelspec": {
   "display_name": "Python 3",
   "language": "python",
   "name": "python3"
  },
  "language_info": {
   "codemirror_mode": {
    "name": "ipython",
    "version": 3
   },
   "file_extension": ".py",
   "mimetype": "text/x-python",
   "name": "python",
   "nbconvert_exporter": "python",
   "pygments_lexer": "ipython3",
   "version": "3.8.5"
  }
 },
 "nbformat": 4,
 "nbformat_minor": 4
}
